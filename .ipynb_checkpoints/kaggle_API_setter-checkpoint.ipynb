{
 "cells": [
  {
   "cell_type": "markdown",
   "id": "8b8da4e1-1690-4c96-8835-d8874b37ad6f",
   "metadata": {},
   "source": [
    "In this notebook I will be using a random forest model to try and predict the possibility for a plant being or becoming diseased. The outcome is a binary one. "
   ]
  },
  {
   "cell_type": "markdown",
   "id": "ef8f5c66-8254-4384-a92c-57fe8bd2df15",
   "metadata": {},
   "source": [
    "To begin with I am going to try and use the kaggle API to import the dataset."
   ]
  },
  {
   "cell_type": "code",
   "execution_count": 2,
   "id": "7ca17c94-3b3b-46f9-aeb3-668b22d2a215",
   "metadata": {},
   "outputs": [
    {
     "name": "stdout",
     "output_type": "stream",
     "text": [
      "mkdir: /Users/andyberrios/.kaggle: File exists\n"
     ]
    }
   ],
   "source": [
    "!mkdir ~/.kaggle"
   ]
  },
  {
   "cell_type": "markdown",
   "id": "1897a7f9-1e95-478a-93e8-52815df5aa14",
   "metadata": {},
   "source": [
    "Here beforehand i had to download a new API key from Kaggle"
   ]
  },
  {
   "cell_type": "code",
   "execution_count": 3,
   "id": "aab4a4c5-84a0-4c5b-918a-5acf918db5b1",
   "metadata": {},
   "outputs": [],
   "source": [
    "mv ~/Downloads/kaggle.json ~/.kaggle/"
   ]
  },
  {
   "cell_type": "markdown",
   "id": "bb20b334-3d84-4c22-918a-83de33c95a9c",
   "metadata": {},
   "source": [
    "Just checking to see if the API has worked! "
   ]
  },
  {
   "cell_type": "code",
   "execution_count": 4,
   "id": "0d6dd053-7ce4-4486-84a7-50dac9485e97",
   "metadata": {},
   "outputs": [
    {
     "name": "stdout",
     "output_type": "stream",
     "text": [
      "Warning: Your Kaggle API key is readable by other users on this system! To fix this, you can run 'chmod 600 /Users/andyberrios/.kaggle/kaggle.json'\n",
      "ref                                                         title                                               size  lastUpdated                 downloadCount  voteCount  usabilityRating  \n",
      "----------------------------------------------------------  -------------------------------------------  -----------  --------------------------  -------------  ---------  ---------------  \n",
      "turakut/plant-disease-classification                        Plant Disease Classification                      358274  2025-06-22 07:54:27.970000            506         21  1.0              \n",
      "alinedobrovsky/plant-disease-classification-merged-dataset  Plant Disease Classification Merged Dataset  18611874922  2023-01-03 15:11:19.200000           8095         79  0.6875           \n",
      "smaranjitghose/corn-or-maize-leaf-disease-dataset           Corn or Maize Leaf Disease Dataset             168591426  2020-11-11 13:39:07.767000          20433        231  0.875            \n",
      "asadullahgalib/guava-disease-dataset                        Guava Fruit Disease Dataset                   1630250426  2024-11-03 19:26:30.973000           3103         60  1.0              \n",
      "vbookshelf/rice-leaf-diseases                               Rice Leaf Diseases Dataset                      38456279  2020-02-21 01:35:02.610000          20583        236  0.625            \n",
      "mexwell/crop-diseases-classification                        🌱 Crop Diseases Classification                2146159494  2024-03-08 09:23:10.910000           3414         68  1.0              \n",
      "nafishamoin/new-bangladeshi-crop-disease                    New Bangladeshi Crop Disease                  2520068131  2022-09-27 08:35:14.790000           3872         63  0.8125           \n",
      "mahmoudshaheen1134/lemon-leaf-disease-dataset-lldd          Lemon Leaf Disease Dataset (LLDD)              355328618  2025-01-30 22:38:01.600000           1074         38  0.875            \n",
      "hafiznouman786/potato-plant-diseases-data                   🌱 Potato Plant Diseases Data 🍂                  79423158  2024-05-28 09:29:49.180000           4110         56  0.875            \n",
      "tushar5harma/plant-village-dataset-updated                  Plant Village Dataset (Updated)               1076224061  2023-04-18 04:33:25.507000           4693         43  0.75             \n",
      "asheniranga/leaf-disease-dataset-combination                Leaf Disease Dataset (combination)             798477293  2022-01-09 14:23:28.590000           3322         51  0.75             \n",
      "mahmoudshaheen1134/plant-leaf-image-dataset                 Egyptian Plant Leaf Image Dataset (EPLID)       62689778  2024-11-01 17:34:28.597000            400         44  0.875            \n",
      "sujallimje/plant-pathogens                                  Plant Pathogen Classification                25414029332  2024-04-12 18:28:21.663000            833         33  0.875            \n",
      "adilmubashirchaudhry/plant-village-dataset                  Plant Village Dataset                         1036791049  2023-09-08 20:51:29.697000           1050         13  0.75             \n",
      "shubham2703/five-crop-diseases-dataset                      Five Crop Diseases Dataset                    4651502464  2023-09-23 06:41:04.220000           1714         22  0.9375           \n",
      "sadmansakibmahi/plant-disease-expert                        Plant Disease Expert                         10019383772  2024-08-31 11:09:18.720000           5773        103  0.7058824        \n",
      "kushagra3204/wheat-plant-diseases                           Wheat Plant Diseases                          6542645239  2024-04-11 18:45:00.943000           3992         34  0.75             \n",
      "mnavaidd/plant-disease-classification                       Plant Disease Classification                   315001393  2021-05-23 08:43:11.597000            126         13  0.1875           \n",
      "nirmalsankalana/plantdoc-dataset                            PlantDoc Classification dataset                939047363  2024-09-16 10:09:20.033000           1286         14  0.875            \n",
      "amandam1/healthy-vs-diseased-leaf-image-dataset             Healthy vs. Diseased Leaf Image Dataset       6661020476  2022-04-22 20:34:34.487000           2621         42  0.75             \n"
     ]
    }
   ],
   "source": [
    "!kaggle datasets list -s 'plant-disease-classification' "
   ]
  },
  {
   "cell_type": "markdown",
   "id": "a47710b5-bd6f-4e5d-b2fc-a85641bb0cf5",
   "metadata": {},
   "source": [
    "This kagglehub library is the new method developed by the community to download datasets. It avoids the need to unzip then use, unlike the traditional API method. "
   ]
  },
  {
   "cell_type": "code",
   "execution_count": 5,
   "id": "9ffc72c9-9c35-4156-a197-3e89fceebab3",
   "metadata": {
    "scrolled": true
   },
   "outputs": [
    {
     "name": "stdout",
     "output_type": "stream",
     "text": [
      "Downloading from https://www.kaggle.com/api/v1/datasets/download/turakut/plant-disease-classification?dataset_version_number=1...\n"
     ]
    },
    {
     "name": "stderr",
     "output_type": "stream",
     "text": [
      "100%|████████████████████████████████████████| 350k/350k [00:00<00:00, 47.1MB/s]"
     ]
    },
    {
     "name": "stdout",
     "output_type": "stream",
     "text": [
      "Extracting files...\n",
      "Path to dataset files: /Users/andyberrios/.cache/kagglehub/datasets/turakut/plant-disease-classification/versions/1\n"
     ]
    },
    {
     "name": "stderr",
     "output_type": "stream",
     "text": [
      "\n"
     ]
    }
   ],
   "source": [
    "import kagglehub\n",
    "\n",
    "# Download latest version\n",
    "path = kagglehub.dataset_download(\"turakut/plant-disease-classification\")\n",
    "\n",
    "print(\"Path to dataset files:\", path)"
   ]
  },
  {
   "cell_type": "markdown",
   "id": "5ecd1132-d1e3-4f1a-ab0f-2a78b8496aec",
   "metadata": {},
   "source": [
    "Just a way to see inside the folder:"
   ]
  },
  {
   "cell_type": "code",
   "execution_count": 7,
   "id": "cf5cf530-fe51-4889-8ed8-d91d42c26470",
   "metadata": {},
   "outputs": [
    {
     "data": {
      "text/plain": [
       "['plant_disease_dataset.csv']"
      ]
     },
     "execution_count": 7,
     "metadata": {},
     "output_type": "execute_result"
    }
   ],
   "source": [
    "import os\n",
    "\n",
    "# See what's inside the dataset folder\n",
    "os.listdir(path)"
   ]
  },
  {
   "cell_type": "code",
   "execution_count": 11,
   "id": "8f4f1c18-6a23-49e6-b3e7-48769b5d516d",
   "metadata": {},
   "outputs": [
    {
     "data": {
      "text/plain": [
       "'./Py_RandForest/data'"
      ]
     },
     "execution_count": 11,
     "metadata": {},
     "output_type": "execute_result"
    }
   ],
   "source": [
    "import shutil\n",
    "\n",
    "project_data_path = \"./Py_RandForest/data\"\n",
    "os.makedirs(project_data_path, exist_ok=True)\n",
    "\n",
    "# Copy everything over\n",
    "shutil.copytree(\n",
    "    \"/Users/andyberrios/.cache/kagglehub/datasets/turakut/plant-disease-classification/versions/1\",\n",
    "    project_data_path,\n",
    "    dirs_exist_ok=True\n",
    ")"
   ]
  },
  {
   "cell_type": "code",
   "execution_count": 14,
   "id": "4cd66d7c-99f3-46e3-9420-630c2527cb7b",
   "metadata": {},
   "outputs": [],
   "source": [
    "import numpy as np "
   ]
  },
  {
   "cell_type": "code",
   "execution_count": null,
   "id": "ae33da01-99de-4bec-8c45-d6403cf1e9df",
   "metadata": {},
   "outputs": [],
   "source": []
  }
 ],
 "metadata": {
  "kernelspec": {
   "display_name": "Python 3 (ipykernel)",
   "language": "python",
   "name": "python3"
  },
  "language_info": {
   "codemirror_mode": {
    "name": "ipython",
    "version": 3
   },
   "file_extension": ".py",
   "mimetype": "text/x-python",
   "name": "python",
   "nbconvert_exporter": "python",
   "pygments_lexer": "ipython3",
   "version": "3.13.5"
  }
 },
 "nbformat": 4,
 "nbformat_minor": 5
}
