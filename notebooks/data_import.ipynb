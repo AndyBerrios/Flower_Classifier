{
 "cells": [
  {
   "cell_type": "markdown",
   "id": "8b8da4e1-1690-4c96-8835-d8874b37ad6f",
   "metadata": {},
   "source": [
    "In this notebook I will be using a random forest model to try and predict the possibility for a plant being or becoming diseased. The outcome is a binary one. "
   ]
  },
  {
   "cell_type": "markdown",
   "id": "a47710b5-bd6f-4e5d-b2fc-a85641bb0cf5",
   "metadata": {},
   "source": [
    "## Do this once per project! \n",
    "This kagglehub library is the new method developed by the community to download datasets. It avoids the need to unzip then use, unlike the traditional API method "
   ]
  },
  {
   "cell_type": "code",
   "execution_count": 2,
   "id": "ae33da01-99de-4bec-8c45-d6403cf1e9df",
   "metadata": {},
   "outputs": [
    {
     "name": "stdout",
     "output_type": "stream",
     "text": [
      "Downloading dataset...\n",
      "✅ Data is ready at: data\n"
     ]
    }
   ],
   "source": [
    "import os\n",
    "import kagglehub\n",
    "import shutil\n",
    "\n",
    "# 1. Set your dataset's unique slug\n",
    "dataset_slug = \"turakut/plant-disease-classification\"\n",
    "\n",
    "# 2. Set where you want the data copied inside your project\n",
    "destination_folder = \"data\"\n",
    "\n",
    "# 3. Download the dataset (uses cache if already downloaded)\n",
    "print(\"Downloading dataset...\")\n",
    "source_path = kagglehub.dataset_download(dataset_slug)\n",
    "\n",
    "# 4. Copy it to your project’s data/ folder\n",
    "os.makedirs(destination_folder, exist_ok=True)\n",
    "shutil.copytree(source_path, destination_folder, dirs_exist_ok=True)\n",
    "\n",
    "print(f\"✅ Data is ready at: {destination_folder}\")"
   ]
  },
  {
   "cell_type": "markdown",
   "id": "69a3b2c6-d45f-448e-b261-a625507ca668",
   "metadata": {},
   "source": [
    "\n",
    "Where to Find a Slug?\n",
    "\n",
    "\t1.\tGo to any Kaggle dataset.\n",
    "\t2.\tLook at the URL:\n",
    "    3.  Everything after /datasets/ is your slug.: "
   ]
  }
 ],
 "metadata": {
  "kernelspec": {
   "display_name": "Python 3 (ipykernel)",
   "language": "python",
   "name": "python3"
  },
  "language_info": {
   "codemirror_mode": {
    "name": "ipython",
    "version": 3
   },
   "file_extension": ".py",
   "mimetype": "text/x-python",
   "name": "python",
   "nbconvert_exporter": "python",
   "pygments_lexer": "ipython3",
   "version": "3.13.5"
  }
 },
 "nbformat": 4,
 "nbformat_minor": 5
}
