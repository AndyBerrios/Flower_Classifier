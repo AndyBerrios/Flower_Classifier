{
 "cells": [
  {
   "cell_type": "markdown",
   "id": "24d9b0f2-54ef-4987-8c90-48bed68637e1",
   "metadata": {},
   "source": [
    "### Splitting the Data"
   ]
  },
  {
   "cell_type": "code",
   "execution_count": 4,
   "id": "81b57488-5e02-42ae-a289-2ea51d1a9a67",
   "metadata": {},
   "outputs": [],
   "source": [
    "import pandas as pd \n",
    "df = pd.read_csv(\"../data/plant_disease_dataset.csv\")"
   ]
  },
  {
   "cell_type": "code",
   "execution_count": 5,
   "id": "5d3f0c7c-40a4-43ff-8166-4b4944fa15c7",
   "metadata": {},
   "outputs": [],
   "source": [
    "# Splitting our train–test sets\n",
    "from sklearn.model_selection import train_test_split\n",
    "\n",
    "X = df.drop('disease_present', axis=1)\n",
    "y = df['disease_present']\n",
    "\n",
    "X_train, X_test, y_train, y_test = train_test_split(X, y, test_size=0.2, random_state=42)"
   ]
  }
 ],
 "metadata": {
  "kernelspec": {
   "display_name": "Python 3 (ipykernel)",
   "language": "python",
   "name": "python3"
  },
  "language_info": {
   "codemirror_mode": {
    "name": "ipython",
    "version": 3
   },
   "file_extension": ".py",
   "mimetype": "text/x-python",
   "name": "python",
   "nbconvert_exporter": "python",
   "pygments_lexer": "ipython3",
   "version": "3.13.5"
  }
 },
 "nbformat": 4,
 "nbformat_minor": 5
}
