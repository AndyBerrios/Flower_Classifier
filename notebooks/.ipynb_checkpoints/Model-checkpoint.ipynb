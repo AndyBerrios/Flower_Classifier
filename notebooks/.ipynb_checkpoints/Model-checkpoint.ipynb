{
 "cells": [
  {
   "cell_type": "markdown",
   "id": "24d9b0f2-54ef-4987-8c90-48bed68637e1",
   "metadata": {},
   "source": [
    "### Splitting the Data"
   ]
  },
  {
   "cell_type": "code",
   "execution_count": 2,
   "id": "81b57488-5e02-42ae-a289-2ea51d1a9a67",
   "metadata": {},
   "outputs": [],
   "source": [
    "import pandas as pd \n",
    "df = pd.read_csv(\"../data/plant_disease_dataset.csv\")"
   ]
  },
  {
   "cell_type": "code",
   "execution_count": 3,
   "id": "5d3f0c7c-40a4-43ff-8166-4b4944fa15c7",
   "metadata": {},
   "outputs": [],
   "source": [
    "# Splitting our train–test sets\n",
    "from sklearn.model_selection import train_test_split\n",
    "\n",
    "X = df.drop('disease_present', axis=1)\n",
    "y = df['disease_present']\n",
    "\n",
    "X_train, X_test, y_train, y_test = train_test_split(X, y, test_size=0.2, random_state=42)"
   ]
  },
  {
   "cell_type": "code",
   "execution_count": 4,
   "id": "eb80c41d-abc2-4aeb-a75b-a0ad46e1fb4d",
   "metadata": {
    "scrolled": true
   },
   "outputs": [
    {
     "name": "stdout",
     "output_type": "stream",
     "text": [
      "      temperature   humidity   rainfall   soil_pH\n",
      "9254    26.095358  92.061883   5.404683  5.487295\n",
      "1561    21.263942  28.570575  12.210648  6.187992\n",
      "1670    23.805340  23.866318  12.913228  4.913851\n",
      "6087    17.260992  81.205395   2.584584  5.258250\n",
      "6669    28.513300  79.054710   5.306852  4.611095\n",
      "...           ...        ...        ...       ...\n",
      "5734    22.129587  87.865680   8.327692  4.815430\n",
      "5191    24.793537  69.094124   5.666459  6.624904\n",
      "5390    21.502927  76.827393  14.321883  5.565291\n",
      "860     26.014615  38.503641  31.488909  6.425853\n",
      "7270    16.411639  73.953378   7.370886  6.841657\n",
      "\n",
      "[8000 rows x 4 columns]\n"
     ]
    }
   ],
   "source": [
    "print(X_train) "
   ]
  },
  {
   "cell_type": "code",
   "execution_count": null,
   "id": "7802b5c1-0cc0-4ab7-bb9c-a3903cb4a47b",
   "metadata": {},
   "outputs": [],
   "source": [
    "# more model"
   ]
  }
 ],
 "metadata": {
  "kernelspec": {
   "display_name": "Python 3 (ipykernel)",
   "language": "python",
   "name": "python3"
  },
  "language_info": {
   "codemirror_mode": {
    "name": "ipython",
    "version": 3
   },
   "file_extension": ".py",
   "mimetype": "text/x-python",
   "name": "python",
   "nbconvert_exporter": "python",
   "pygments_lexer": "ipython3",
   "version": "3.13.5"
  }
 },
 "nbformat": 4,
 "nbformat_minor": 5
}
