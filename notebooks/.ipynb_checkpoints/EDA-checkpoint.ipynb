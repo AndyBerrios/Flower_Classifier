{
 "cells": [
  {
   "cell_type": "markdown",
   "id": "e1b37038-0d89-415d-aa11-fef9ed853ef3",
   "metadata": {},
   "source": [
    "Here i will begin the EDA. I will utilize seaborn and pandas. "
   ]
  },
  {
   "cell_type": "code",
   "execution_count": 2,
   "id": "0ec27457-cb66-4d4e-a4b5-eec39792ef14",
   "metadata": {},
   "outputs": [],
   "source": [
    "import pandas as pd \n",
    "import seaborn as sns"
   ]
  },
  {
   "cell_type": "code",
   "execution_count": 10,
   "id": "dc2f8da3-6485-437d-b263-d911653a27a2",
   "metadata": {},
   "outputs": [],
   "source": [
    "df = pd.read_csv(\"../data/plant_disease_dataset.csv\")"
   ]
  }
 ],
 "metadata": {
  "kernelspec": {
   "display_name": "Python 3 (ipykernel)",
   "language": "python",
   "name": "python3"
  },
  "language_info": {
   "codemirror_mode": {
    "name": "ipython",
    "version": 3
   },
   "file_extension": ".py",
   "mimetype": "text/x-python",
   "name": "python",
   "nbconvert_exporter": "python",
   "pygments_lexer": "ipython3",
   "version": "3.13.5"
  }
 },
 "nbformat": 4,
 "nbformat_minor": 5
}
